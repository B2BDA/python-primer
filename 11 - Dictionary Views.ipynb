{
 "cells": [
  {
   "cell_type": "markdown",
   "metadata": {},
   "source": [
    "### Dictionary Views"
   ]
  },
  {
   "cell_type": "markdown",
   "metadata": {},
   "source": [
    "I want to come back to dictionaries quickly to explain dictionary views."
   ]
  },
  {
   "cell_type": "markdown",
   "metadata": {},
   "source": [
    "Dictionaries contain key/value pairs. By default we have seen how when we iterate directly over a dictionary we are in fact iterating over the keys.\n",
    "\n",
    "But what if we want to iterate over the values instead? Or maybe the keys and values at the same time?"
   ]
  },
  {
   "cell_type": "markdown",
   "metadata": {},
   "source": [
    "Dictionaries offer three \"views\" that are basically generators (remember those?) used to represent:\n",
    "- just the keys\n",
    "- just the values\n",
    "- both the keys and the values as tuples"
   ]
  },
  {
   "cell_type": "markdown",
   "metadata": {},
   "source": [
    "All those views are iterables, so we can do the following:"
   ]
  },
  {
   "cell_type": "code",
   "execution_count": 1,
   "metadata": {},
   "outputs": [],
   "source": [
    "d = {\n",
    "    'a': 10,\n",
    "    'b': 20,\n",
    "    'c': 30\n",
    "}"
   ]
  },
  {
   "cell_type": "code",
   "execution_count": 2,
   "metadata": {},
   "outputs": [
    {
     "name": "stdout",
     "output_type": "stream",
     "text": [
      "a\n",
      "b\n",
      "c\n"
     ]
    }
   ],
   "source": [
    "for k in d.keys():\n",
    "    print(k)"
   ]
  },
  {
   "cell_type": "code",
   "execution_count": 3,
   "metadata": {},
   "outputs": [
    {
     "name": "stdout",
     "output_type": "stream",
     "text": [
      "10\n",
      "20\n",
      "30\n"
     ]
    }
   ],
   "source": [
    "for v in d.values():\n",
    "    print(v)"
   ]
  },
  {
   "cell_type": "code",
   "execution_count": 4,
   "metadata": {},
   "outputs": [
    {
     "name": "stdout",
     "output_type": "stream",
     "text": [
      "('a', 10)\n",
      "('b', 20)\n",
      "('c', 30)\n"
     ]
    }
   ],
   "source": [
    "for item in d.items():\n",
    "    print(item)"
   ]
  },
  {
   "cell_type": "markdown",
   "metadata": {},
   "source": [
    "The first two are straightforward, but the last one returns not single values, but tuples containing the key and the value of each item in the dictionary.\n",
    "\n",
    "So, we can use unpacking to our advantage here!"
   ]
  },
  {
   "cell_type": "code",
   "execution_count": 5,
   "metadata": {},
   "outputs": [
    {
     "name": "stdout",
     "output_type": "stream",
     "text": [
      "key: a \tvalue: 10\n",
      "key: b \tvalue: 20\n",
      "key: c \tvalue: 30\n"
     ]
    }
   ],
   "source": [
    "for k, v in d.items():\n",
    "    print('key:', k, '\\tvalue:', v)"
   ]
  },
  {
   "cell_type": "markdown",
   "metadata": {},
   "source": [
    "So using the `items()` view and unpacking can make some code that needs to work with both the keys and the values much easier to write."
   ]
  },
  {
   "cell_type": "markdown",
   "metadata": {},
   "source": [
    "**CAUTION**\n",
    "\n",
    "One big word of caution here.\n",
    "\n",
    "Views are dynamic (i.e. the will reflect changes in the dictionary right away), so **DO NOT** change the dictionary by adding/removing elements as you iterate over any of the views. This will lead to trouble! Just say no :-)"
   ]
  },
  {
   "cell_type": "markdown",
   "metadata": {},
   "source": [
    "Another property about these views is that some of them can behave as sets.\n",
    "\n",
    "The `keys()` view actually behaves like a **set** - which makes sense if we remember that keys in a dictionary have the same characteristics as elements in a set - they cannot be repeated (so they are unique), and they have no particular order.\n",
    "\n",
    "The `values()` view on the other hand, never behaves like a set, while the `items()` view *may* behave like a set. Why, and under what circumstances this is true is beyond the scope of this primer.\n",
    "\n",
    "For the majority of programming needs, we only really need to work with the keys as sets."
   ]
  },
  {
   "cell_type": "markdown",
   "metadata": {},
   "source": [
    "Why is being able to treat the keys in a dictionary in a set useful?"
   ]
  },
  {
   "cell_type": "markdown",
   "metadata": {},
   "source": [
    "Consider this problem where you have two dictionaries, and you want to find all the elements whose keys are in *both* dictionaries."
   ]
  },
  {
   "cell_type": "markdown",
   "metadata": {},
   "source": [
    "For example, suppose we have two servers that return data results to us telling us the number of some particualr widgets sold.\n",
    "\n",
    "We are tasked with finding which widgets were sold on one or the other server, but not both."
   ]
  },
  {
   "cell_type": "code",
   "execution_count": 6,
   "metadata": {},
   "outputs": [],
   "source": [
    "server_1 = {\n",
    "    'yPad': 10,\n",
    "    'yPhone': 100,\n",
    "    'yWatch': 30,\n",
    "    'yPen': 20\n",
    "}\n",
    "\n",
    "server_2 = {\n",
    "    'yPad': 10,\n",
    "    'yWatch': 20,\n",
    "    'yBookPro': 5\n",
    "}"
   ]
  },
  {
   "cell_type": "markdown",
   "metadata": {},
   "source": [
    "So we can see that the items that were sold on one server or the other (but not both), are: `yPhone`, `yPen`, and `yBookPro`. This might indicate to us that we have an inventory problem that needs to be fixed."
   ]
  },
  {
   "cell_type": "markdown",
   "metadata": {},
   "source": [
    "So how can we go about getting this information programmatically?"
   ]
  },
  {
   "cell_type": "markdown",
   "metadata": {},
   "source": [
    "Well, the `keys()` views behave like sets - let's see how we can find widgets that were sold on *both* servers first:"
   ]
  },
  {
   "cell_type": "code",
   "execution_count": 7,
   "metadata": {},
   "outputs": [
    {
     "data": {
      "text/plain": [
       "{'yPad', 'yWatch'}"
      ]
     },
     "execution_count": 7,
     "metadata": {},
     "output_type": "execute_result"
    }
   ],
   "source": [
    "widgets_1 = server_1.keys()\n",
    "widgets_2 = server_2.keys()\n",
    "\n",
    "# intersection of the sets\n",
    "widgets_1 & widgets_2"
   ]
  },
  {
   "cell_type": "markdown",
   "metadata": {},
   "source": [
    "Now we really need to find the other widgets - we could do it this way using a union and subtgracting the intersection:"
   ]
  },
  {
   "cell_type": "code",
   "execution_count": 8,
   "metadata": {},
   "outputs": [
    {
     "data": {
      "text/plain": [
       "{'yBookPro', 'yPad', 'yPen', 'yPhone', 'yWatch'}"
      ]
     },
     "execution_count": 8,
     "metadata": {},
     "output_type": "execute_result"
    }
   ],
   "source": [
    "widgets_1 | widgets_2"
   ]
  },
  {
   "cell_type": "markdown",
   "metadata": {},
   "source": [
    "As you can see this is the union (and no repeated elements of course), and now we remove the intersection:"
   ]
  },
  {
   "cell_type": "code",
   "execution_count": 9,
   "metadata": {},
   "outputs": [
    {
     "data": {
      "text/plain": [
       "{'yBookPro', 'yPen', 'yPhone'}"
      ]
     },
     "execution_count": 9,
     "metadata": {},
     "output_type": "execute_result"
    }
   ],
   "source": [
    "(widgets_1 | widgets_2) - (widgets_1 & widgets_2)"
   ]
  },
  {
   "cell_type": "markdown",
   "metadata": {},
   "source": [
    "And there you are!\n",
    "\n",
    "But there is a simpler way yet - remember the **symmetric difference** of two sets?\n",
    "\n",
    "Yep, we can use that here:"
   ]
  },
  {
   "cell_type": "code",
   "execution_count": 10,
   "metadata": {},
   "outputs": [
    {
     "data": {
      "text/plain": [
       "{'yBookPro', 'yPen', 'yPhone'}"
      ]
     },
     "execution_count": 10,
     "metadata": {},
     "output_type": "execute_result"
    }
   ],
   "source": [
    "widgets_1 ^ widgets_2"
   ]
  },
  {
   "cell_type": "markdown",
   "metadata": {},
   "source": [
    "Or, without using intermediary symbols, directly from the dictionaries thus:"
   ]
  },
  {
   "cell_type": "code",
   "execution_count": 11,
   "metadata": {},
   "outputs": [
    {
     "data": {
      "text/plain": [
       "{'yBookPro', 'yPen', 'yPhone'}"
      ]
     },
     "execution_count": 11,
     "metadata": {},
     "output_type": "execute_result"
    }
   ],
   "source": [
    "server_1.keys() ^ server_2.keys()"
   ]
  },
  {
   "cell_type": "markdown",
   "metadata": {},
   "source": [
    "Isn't Python wonderful!!"
   ]
  }
 ],
 "metadata": {
  "kernelspec": {
   "display_name": "Python 3",
   "language": "python",
   "name": "python3"
  },
  "language_info": {
   "codemirror_mode": {
    "name": "ipython",
    "version": 3
   },
   "file_extension": ".py",
   "mimetype": "text/x-python",
   "name": "python",
   "nbconvert_exporter": "python",
   "pygments_lexer": "ipython3",
   "version": "3.6.7"
  }
 },
 "nbformat": 4,
 "nbformat_minor": 2
}
